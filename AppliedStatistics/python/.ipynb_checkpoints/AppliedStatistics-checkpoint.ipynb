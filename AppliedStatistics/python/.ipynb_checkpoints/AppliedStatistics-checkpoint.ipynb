{
 "cells": [
  {
   "cell_type": "markdown",
   "metadata": {
    "slideshow": {
     "slide_type": "slide"
    }
   },
   "source": [
    "# Chapter 1\n",
    "\n",
    "We start with Figure 1.\n",
    "\n",
    ">Probability density functions (pdf) of central and noncentral F distributions as influenced by the noncentrality parameter (l). The x axis represents the percentile of the pdf. Values for the probability density functions were derived from analysis of a simulated experiment with 8 entries, 3 replications, a grand mean of 5000 kg and a standard deviation of 500 kg (CV = 10). The central distribution (solid gray line), where l = 0 is equivalent to an effect size of 0 or failure to reject the H0. Values for l were simulated as a small effect (double line) equal to 10% of the mean (l = 10.05); a moderate effect (dashed line) equal to 16% of the mean (l = 28) and a large effect (dotted line) equal to 25% of the mean (l = 65). The central and noncentral distributions overlap for the 10% difference scenario, indicating that the power of the experiment to detect those differences will be lower than for the larger effects. The numerator df were equal to 7 and the denominator df were equal to 14 in these analyses.\n",
    "\n",
    "First, we'll define some constants"
   ]
  },
  {
   "cell_type": "code",
   "execution_count": 1,
   "metadata": {},
   "outputs": [],
   "source": [
    "entries = 8\n",
    "replicates = 3\n",
    "grand_mean = 5000\n",
    "sd = 500\n",
    "cv = 100*sd/grand_mean\n",
    "print(cv)"
   ]
  },
  {
   "cell_type": "markdown",
   "metadata": {},
   "source": [
    "The graph plots frequency over percent, with percent ranging from 0 to 10. We'll create a sequence in python using"
   ]
  },
  {
   "cell_type": "code",
   "execution_count": 2,
   "metadata": {},
   "outputs": [],
   "source": [
    "#TODO: clean up ranges\n",
    "percents = list(range(1,101))\n",
    "for i in range(0,100):\n",
    "    percents[i] = percents[i]/10"
   ]
  },
  {
   "cell_type": "markdown",
   "metadata": {},
   "source": [
    "Now, to calculate the PDF for F, we need scipy\n",
    "\n",
    "x = np.linspace(f.ppf(0.01, dfn, dfd),\n",
    "...                 f.ppf(0.99, dfn, dfd), 100)"
   ]
  },
  {
   "cell_type": "code",
   "execution_count": 15,
   "metadata": {},
   "outputs": [
    {
     "name": "stdout",
     "output_type": "stream",
     "text": [
      "7 14\n"
     ]
    }
   ],
   "source": [
    "from scipy.stats import f\n",
    "\n",
    "ndf, ddf = entries-1, (replicates-1)*(entries-1)\n",
    "print(ndf,ddf)\n",
    "frequencies = list(range(1,101))\n",
    "for i in range(0,100):\n",
    "    frequencies[i] = f.pdf(percents[i], ndf, ddf)"
   ]
  },
  {
   "cell_type": "markdown",
   "metadata": {},
   "source": [
    "To compute the non-central F PDF, we'll need an additional function."
   ]
  },
  {
   "cell_type": "code",
   "execution_count": 16,
   "metadata": {},
   "outputs": [],
   "source": [
    "from scipy.stats import ncf\n",
    "\n",
    "frequencies_10 = list(range(1,101))\n",
    "frequencies_16 = list(range(1,101))\n",
    "frequencies_25 = list(range(1,101))\n",
    "for i in range(0,100):\n",
    "    frequencies_10[i] = ncf.pdf(percents[i], ndf, ddf, 10.5)\n",
    "    frequencies_16[i] = ncf.pdf(percents[i], ndf, ddf, 28)\n",
    "    frequencies_25[i] = ncf.pdf(percents[i], ndf, ddf, 65)"
   ]
  },
  {
   "cell_type": "markdown",
   "metadata": {},
   "source": [
    "The matplotlib seems to be the preferred choice for creating graphics."
   ]
  },
  {
   "cell_type": "code",
   "execution_count": 17,
   "metadata": {},
   "outputs": [
    {
     "data": {
      "image/png": "[encoded data removed]",
      "text/plain": [
       "<Figure size 432x288 with 1 Axes>"
      ]
     },
     "metadata": {},
     "output_type": "display_data"
    }
   ],
   "source": [
    "import matplotlib.pyplot as plt\n",
    "fig, ax = plt.subplots(1, 1)\n",
    "ax.plot(percents, frequencies,'black', lw=3, alpha=0.6, label='lambda = 0')\n",
    "ax.plot(percents, frequencies_10,'blue', lw=3, alpha=0.6, label='lambda = 10.5')\n",
    "ax.plot(percents, frequencies_16,'green', lw=3, alpha=0.6, label='lambda = 28')\n",
    "ax.plot(percents, frequencies_25,'red', lw=3, alpha=0.6, label='lambda = 65')\n",
    "ax.legend(loc='best', frameon=False)\n",
    "plt.xlabel('Percentile')\n",
    "plt.ylabel('Frequency')\n",
    "plt.show()"
   ]
  },
  {
   "cell_type": "markdown",
   "metadata": {},
   "source": [
    "# Chapter 2\n",
    "\n",
    "We start by attempting to reproduce Table 3. This will give us a chance to experiment with ragged arrays.\n",
    "\n",
    "First, define the parameters"
   ]
  },
  {
   "cell_type": "code",
   "execution_count": 20,
   "metadata": {},
   "outputs": [],
   "source": [
    "ddf = [2, 3, 4, 5, 10, 20, 120]\n",
    "ndf = [1, 2, 3, 4, 5, 10, 20]"
   ]
  },
  {
   "cell_type": "code",
   "execution_count": 40,
   "metadata": {},
   "outputs": [
    {
     "name": "stdout",
     "output_type": "stream",
     "text": [
      "[98.50251256281399]\n",
      "[34.116221564529795, 30.816520350478235]\n",
      "[21.197689584391295, 17.99999999999999, 16.694369237175078]\n",
      "[16.25817703983365, 13.273933612004825, 12.059953691651982, 11.39192807134976]\n",
      "[10.04428927339659, 7.559432157547899, 6.552312557515209, 5.994338661629364, 5.636326187669078]\n",
      "[8.09595806408569, 5.848931924611141, 4.938193382310539, 4.430690161437775, 4.102684630584732, 3.3681863891887414]\n",
      "[18.512820512820497]\n",
      "[10.127964486013928, 9.552094495921155]\n",
      "[7.708647422176786, 6.944271909999155, 6.591382116425578]\n",
      "[6.607890973703367, 5.786135043349964, 5.40945131805649, 5.192167772803923]\n",
      "[4.9646027437307145, 4.1028210151304005, 3.7082648190468435, 3.478049690765229, 3.3258345304130112]\n",
      "[4.351243503329288, 3.492828476735632, 3.09839121214078, 2.8660814020156584, 2.7108898372096917, 2.3478775669983114]\n"
     ]
    }
   ],
   "source": [
    "from scipy.stats import f\n",
    "#scipy.stats.f.ppf(q=1-0.05, dfn=3, dfd=39)\n",
    "F_01_tbl = []\n",
    "F_05_tbl = []\n",
    "for i in range(0,len(ddf)-1) :\n",
    "    row_01 = []\n",
    "    row_05 = []\n",
    "    for j in range(0,i+1) :\n",
    "        row_01.append(f.ppf(q=1-0.01,dfn=ndf[j], dfd=ddf[i]))\n",
    "        row_05.append(f.ppf(q=1-0.05,dfn=ndf[j], dfd=ddf[i]))\n",
    "    F_01_tbl.append(row_01)\n",
    "    F_05_tbl.append(row_05)\n",
    "for row in F_01_tbl:\n",
    "    print(row)\n",
    "for row in F_05_tbl:\n",
    "    print(row)"
   ]
  },
  {
   "cell_type": "markdown",
   "metadata": {},
   "source": [
    "We'll skip Fig 1. It's similar to Fig 1 in Chapter 1. Instead, we'll move to the analysis of case study data.\n",
    "\n",
    "First, we need to read the data from excel."
   ]
  },
  {
   "cell_type": "code",
   "execution_count": 42,
   "metadata": {},
   "outputs": [
    {
     "data": {
      "text/plain": [
       "pandas.core.frame.DataFrame"
      ]
     },
     "execution_count": 42,
     "metadata": {},
     "output_type": "execute_result"
    }
   ],
   "source": [
    "import pandas\n",
    "\n",
    "statbean_data = pandas.read_excel('../supplements/Statbean Data.xlsx')\n",
    "type(statbean_data)"
   ]
  },
  {
   "cell_type": "markdown",
   "metadata": {},
   "source": [
    "What can we do with a DataFrame? First, can we reproduce a box-whisker plot? \n",
    "\n",
    "It looks like pandas has a function"
   ]
  },
  {
   "cell_type": "code",
   "execution_count": 43,
   "metadata": {},
   "outputs": [
    {
     "data": {
      "image/png": "[encoded data removed]",
      "text/plain": [
       "<Figure size 432x288 with 1 Axes>"
      ]
     },
     "metadata": {},
     "output_type": "display_data"
    }
   ],
   "source": [
    "boxplot = statbean_data.boxplot(column=['pH'], by=['Ca_Trt', 'Loc'])"
   ]
  },
  {
   "cell_type": "markdown",
   "metadata": {},
   "source": [
    "Good enough for now. We can clean up the plot to match Fig 1 later. Instead, move on to summary in Table 7\n"
   ]
  }
 ],
 "metadata": {
  "kernelspec": {
   "display_name": "Python 3",
   "language": "python",
   "name": "python3"
  },
  "language_info": {
   "codemirror_mode": {
    "name": "ipython",
    "version": 3
   },
   "file_extension": ".py",
   "mimetype": "text/x-python",
   "name": "python",
   "nbconvert_exporter": "python",
   "pygments_lexer": "ipython3",
   "version": "3.6.5"
  }
 },
 "nbformat": 4,
 "nbformat_minor": 2
}
